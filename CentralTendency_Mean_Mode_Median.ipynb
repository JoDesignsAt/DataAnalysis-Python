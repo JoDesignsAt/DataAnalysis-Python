{
 "cells": [
  {
   "cell_type": "code",
   "execution_count": 44,
   "id": "e777ce47-b971-4fe2-b334-145200ba7651",
   "metadata": {},
   "outputs": [],
   "source": [
    "import numpy as np\n",
    "import pandas as pd\n",
    "\n",
    "import matplotlib.pyplot as plt\n",
    "import seaborn as sns"
   ]
  },
  {
   "cell_type": "markdown",
   "id": "77a72e57-42cc-4865-8e76-2f1197df1aa7",
   "metadata": {},
   "source": [
    "# mean\n",
    "    holds an average value. \n",
    "    sum of total number of count/ total number of\n",
    "    create an array which holds number of values"
   ]
  },
  {
   "cell_type": "code",
   "execution_count": 45,
   "id": "5b0e8538-8124-4a34-bdd1-c83607b2feb6",
   "metadata": {},
   "outputs": [],
   "source": [
    "arr = np.array([4,5,6,7,1,2,3,4,7])"
   ]
  },
  {
   "cell_type": "markdown",
   "id": "1735a022-7f14-4ec1-a380-3b04935a34a9",
   "metadata": {},
   "source": [
    "lets calculate sum of arrays and total count of array numbers"
   ]
  },
  {
   "cell_type": "code",
   "execution_count": 46,
   "id": "fb65d40a-99ca-4cc6-a1b4-99ab2b360824",
   "metadata": {},
   "outputs": [
    {
     "data": {
      "text/plain": [
       "39"
      ]
     },
     "execution_count": 46,
     "metadata": {},
     "output_type": "execute_result"
    }
   ],
   "source": [
    "np.sum(arr)"
   ]
  },
  {
   "cell_type": "code",
   "execution_count": 47,
   "id": "58e81e6d-320f-4772-8851-11d9b56bcc0b",
   "metadata": {},
   "outputs": [
    {
     "data": {
      "text/plain": [
       "9"
      ]
     },
     "execution_count": 47,
     "metadata": {},
     "output_type": "execute_result"
    }
   ],
   "source": [
    "len(arr)"
   ]
  },
  {
   "cell_type": "code",
   "execution_count": 48,
   "id": "df9d9de1-ef00-4e3b-8622-3ea405207c75",
   "metadata": {},
   "outputs": [
    {
     "data": {
      "text/plain": [
       "4.333333333333333"
      ]
     },
     "execution_count": 48,
     "metadata": {},
     "output_type": "execute_result"
    }
   ],
   "source": [
    "# sum of arrays / total count\n",
    "np.sum(arr)/len(arr) # the average score by formula"
   ]
  },
  {
   "cell_type": "code",
   "execution_count": 49,
   "id": "e9fbc88c-8b15-4797-992e-4d8a3c9d37df",
   "metadata": {},
   "outputs": [
    {
     "data": {
      "text/plain": [
       "array([1, 2, 3, 4, 4, 5, 6, 7, 7])"
      ]
     },
     "execution_count": 49,
     "metadata": {},
     "output_type": "execute_result"
    }
   ],
   "source": [
    "# to recheck the avg, \n",
    "# use sort() to notice the mid values\n",
    "# (4+4+5)/3 = 4.333333333333333\n",
    "np.sort(arr) # data lies between 4 "
   ]
  },
  {
   "cell_type": "markdown",
   "id": "264100b5-ce9e-4d99-8663-ab5a24fbae34",
   "metadata": {},
   "source": [
    "now lets apply dirtect formula of mean"
   ]
  },
  {
   "cell_type": "code",
   "execution_count": 50,
   "id": "ee2f4f9f-ff54-4174-bacd-2f5fea22e0ae",
   "metadata": {},
   "outputs": [
    {
     "data": {
      "text/plain": [
       "4.333333333333333"
      ]
     },
     "execution_count": 50,
     "metadata": {},
     "output_type": "execute_result"
    }
   ],
   "source": [
    "np.mean(arr) #the average score by mean formula"
   ]
  },
  {
   "cell_type": "code",
   "execution_count": 51,
   "id": "e9f0797a-9133-46ad-aeb1-f09c6d2ce4e2",
   "metadata": {},
   "outputs": [
    {
     "data": {
      "text/plain": [
       "True"
      ]
     },
     "execution_count": 51,
     "metadata": {},
     "output_type": "execute_result"
    }
   ],
   "source": [
    "# which is \n",
    "np.sum(arr)/len(arr) == np.mean(arr)"
   ]
  },
  {
   "cell_type": "markdown",
   "id": "f59c72bf-d848-4a34-b211-3e6cc48265d2",
   "metadata": {},
   "source": [
    "Lets take the real dataset and find the mean"
   ]
  },
  {
   "cell_type": "code",
   "execution_count": 52,
   "id": "ff6b2d75-6407-4432-8e74-015bbf56a2d3",
   "metadata": {},
   "outputs": [],
   "source": [
    "dataset = pd.read_csv(\"titanic.csv\")"
   ]
  },
  {
   "cell_type": "code",
   "execution_count": 53,
   "id": "a86c9095-4cd6-47e1-bd1e-ac5149fa19a7",
   "metadata": {},
   "outputs": [
    {
     "data": {
      "text/html": [
       "<div>\n",
       "<style scoped>\n",
       "    .dataframe tbody tr th:only-of-type {\n",
       "        vertical-align: middle;\n",
       "    }\n",
       "\n",
       "    .dataframe tbody tr th {\n",
       "        vertical-align: top;\n",
       "    }\n",
       "\n",
       "    .dataframe thead th {\n",
       "        text-align: right;\n",
       "    }\n",
       "</style>\n",
       "<table border=\"1\" class=\"dataframe\">\n",
       "  <thead>\n",
       "    <tr style=\"text-align: right;\">\n",
       "      <th></th>\n",
       "      <th>survived</th>\n",
       "      <th>pclass</th>\n",
       "      <th>sex</th>\n",
       "      <th>age</th>\n",
       "      <th>sibsp</th>\n",
       "      <th>parch</th>\n",
       "      <th>fare</th>\n",
       "      <th>embarked</th>\n",
       "      <th>class</th>\n",
       "      <th>who</th>\n",
       "      <th>adult_male</th>\n",
       "      <th>deck</th>\n",
       "      <th>embark_town</th>\n",
       "      <th>alive</th>\n",
       "      <th>alone</th>\n",
       "    </tr>\n",
       "  </thead>\n",
       "  <tbody>\n",
       "    <tr>\n",
       "      <th>0</th>\n",
       "      <td>0</td>\n",
       "      <td>3</td>\n",
       "      <td>male</td>\n",
       "      <td>22.0</td>\n",
       "      <td>1</td>\n",
       "      <td>0</td>\n",
       "      <td>7.2500</td>\n",
       "      <td>S</td>\n",
       "      <td>Third</td>\n",
       "      <td>man</td>\n",
       "      <td>True</td>\n",
       "      <td>NaN</td>\n",
       "      <td>Southampton</td>\n",
       "      <td>no</td>\n",
       "      <td>False</td>\n",
       "    </tr>\n",
       "    <tr>\n",
       "      <th>1</th>\n",
       "      <td>1</td>\n",
       "      <td>1</td>\n",
       "      <td>female</td>\n",
       "      <td>38.0</td>\n",
       "      <td>1</td>\n",
       "      <td>0</td>\n",
       "      <td>71.2833</td>\n",
       "      <td>C</td>\n",
       "      <td>First</td>\n",
       "      <td>woman</td>\n",
       "      <td>False</td>\n",
       "      <td>C</td>\n",
       "      <td>Cherbourg</td>\n",
       "      <td>yes</td>\n",
       "      <td>False</td>\n",
       "    </tr>\n",
       "    <tr>\n",
       "      <th>2</th>\n",
       "      <td>1</td>\n",
       "      <td>3</td>\n",
       "      <td>female</td>\n",
       "      <td>26.0</td>\n",
       "      <td>0</td>\n",
       "      <td>0</td>\n",
       "      <td>7.9250</td>\n",
       "      <td>S</td>\n",
       "      <td>Third</td>\n",
       "      <td>woman</td>\n",
       "      <td>False</td>\n",
       "      <td>NaN</td>\n",
       "      <td>Southampton</td>\n",
       "      <td>yes</td>\n",
       "      <td>True</td>\n",
       "    </tr>\n",
       "    <tr>\n",
       "      <th>3</th>\n",
       "      <td>1</td>\n",
       "      <td>1</td>\n",
       "      <td>female</td>\n",
       "      <td>35.0</td>\n",
       "      <td>1</td>\n",
       "      <td>0</td>\n",
       "      <td>53.1000</td>\n",
       "      <td>S</td>\n",
       "      <td>First</td>\n",
       "      <td>woman</td>\n",
       "      <td>False</td>\n",
       "      <td>C</td>\n",
       "      <td>Southampton</td>\n",
       "      <td>yes</td>\n",
       "      <td>False</td>\n",
       "    </tr>\n",
       "    <tr>\n",
       "      <th>4</th>\n",
       "      <td>0</td>\n",
       "      <td>3</td>\n",
       "      <td>male</td>\n",
       "      <td>35.0</td>\n",
       "      <td>0</td>\n",
       "      <td>0</td>\n",
       "      <td>8.0500</td>\n",
       "      <td>S</td>\n",
       "      <td>Third</td>\n",
       "      <td>man</td>\n",
       "      <td>True</td>\n",
       "      <td>NaN</td>\n",
       "      <td>Southampton</td>\n",
       "      <td>no</td>\n",
       "      <td>True</td>\n",
       "    </tr>\n",
       "  </tbody>\n",
       "</table>\n",
       "</div>"
      ],
      "text/plain": [
       "   survived  pclass     sex   age  sibsp  parch     fare embarked  class  \\\n",
       "0         0       3    male  22.0      1      0   7.2500        S  Third   \n",
       "1         1       1  female  38.0      1      0  71.2833        C  First   \n",
       "2         1       3  female  26.0      0      0   7.9250        S  Third   \n",
       "3         1       1  female  35.0      1      0  53.1000        S  First   \n",
       "4         0       3    male  35.0      0      0   8.0500        S  Third   \n",
       "\n",
       "     who  adult_male deck  embark_town alive  alone  \n",
       "0    man        True  NaN  Southampton    no  False  \n",
       "1  woman       False    C    Cherbourg   yes  False  \n",
       "2  woman       False  NaN  Southampton   yes   True  \n",
       "3  woman       False    C  Southampton   yes  False  \n",
       "4    man        True  NaN  Southampton    no   True  "
      ]
     },
     "execution_count": 53,
     "metadata": {},
     "output_type": "execute_result"
    }
   ],
   "source": [
    "dataset.head(5)"
   ]
  },
  {
   "cell_type": "markdown",
   "id": "646e3c19-81e8-428f-b0fd-e429f38da0fb",
   "metadata": {},
   "source": [
    "Lets find the avg/mean of titanic age group "
   ]
  },
  {
   "cell_type": "code",
   "execution_count": 54,
   "id": "fb76069b-f061-4132-b9e0-4b5ec9229494",
   "metadata": {},
   "outputs": [
    {
     "data": {
      "text/plain": [
       "29.69911764705882"
      ]
     },
     "execution_count": 54,
     "metadata": {},
     "output_type": "execute_result"
    }
   ],
   "source": [
    "dataset[\"age\"].mean()"
   ]
  },
  {
   "cell_type": "code",
   "execution_count": 55,
   "id": "24530d2d-c75a-42dd-8b3f-860a6bc73b6b",
   "metadata": {},
   "outputs": [],
   "source": [
    "# use np\n",
    "mn = np.mean(dataset[\"age\"])"
   ]
  },
  {
   "cell_type": "code",
   "execution_count": 56,
   "id": "1961b50c-19a6-49f1-ac90-cd843609cab0",
   "metadata": {},
   "outputs": [
    {
     "data": {
      "text/plain": [
       "29.69911764705882"
      ]
     },
     "execution_count": 56,
     "metadata": {},
     "output_type": "execute_result"
    }
   ],
   "source": [
    "mn"
   ]
  },
  {
   "cell_type": "code",
   "execution_count": 57,
   "id": "52e072b8-8593-4957-8490-6463b0eee7e4",
   "metadata": {},
   "outputs": [
    {
     "data": {
      "image/png": "[encoded data removed]",
      "text/plain": [
       "<Figure size 640x480 with 1 Axes>"
      ]
     },
     "metadata": {},
     "output_type": "display_data"
    }
   ],
   "source": [
    "sns.histplot(x=\"age\",data=dataset,bins=[i for i in range(0,81,15)]) # x-axis: 0 to 81 spread\n",
    "plt.plot([mn for i in range(0,500)],[i for i in range(0,500)], c=\"red\") # apply mean mn, to display line vertically, spread 0-500\n",
    "plt.show()"
   ]
  },
  {
   "cell_type": "markdown",
   "id": "27ebbcbc-0c61-4378-9701-c4fe490c4c4d",
   "metadata": {},
   "source": [
    "the red line indicates mean "
   ]
  },
  {
   "cell_type": "markdown",
   "id": "1f024ce7-989a-436c-80d7-63093723e7ff",
   "metadata": {},
   "source": [
    "# median\n",
    "    the mid data, middle data when data is spread."
   ]
  },
  {
   "cell_type": "code",
   "execution_count": 58,
   "id": "7b44e69d-e80c-4f89-a72c-40e501a5b3cf",
   "metadata": {},
   "outputs": [
    {
     "data": {
      "text/plain": [
       "nan"
      ]
     },
     "execution_count": 58,
     "metadata": {},
     "output_type": "execute_result"
    }
   ],
   "source": [
    "np.median(dataset[\"age\"])"
   ]
  },
  {
   "cell_type": "markdown",
   "id": "a76f7f9c-239f-4ebe-b72e-ca5f786976e2",
   "metadata": {},
   "source": [
    "remove the null values from age as 'nan' indicates null or missing values"
   ]
  },
  {
   "cell_type": "code",
   "execution_count": 59,
   "id": "320c7c20-942c-4ef3-92e2-7b486e3be866",
   "metadata": {},
   "outputs": [
    {
     "data": {
      "text/plain": [
       "21205.17"
      ]
     },
     "execution_count": 59,
     "metadata": {},
     "output_type": "execute_result"
    }
   ],
   "source": [
    "dataset[\"age\"].sum()"
   ]
  },
  {
   "cell_type": "code",
   "execution_count": 60,
   "id": "7f616e73-fa1c-4479-8138-316807f31395",
   "metadata": {},
   "outputs": [
    {
     "data": {
      "text/plain": [
       "survived         0\n",
       "pclass           0\n",
       "sex              0\n",
       "age            177\n",
       "sibsp            0\n",
       "parch            0\n",
       "fare             0\n",
       "embarked         2\n",
       "class            0\n",
       "who              0\n",
       "adult_male       0\n",
       "deck           688\n",
       "embark_town      2\n",
       "alive            0\n",
       "alone            0\n",
       "dtype: int64"
      ]
     },
     "execution_count": 60,
     "metadata": {},
     "output_type": "execute_result"
    }
   ],
   "source": [
    "dataset.isnull().sum()"
   ]
  },
  {
   "cell_type": "code",
   "execution_count": 61,
   "id": "ebe1b7ca-07a9-41cb-a95f-84c0c8fadb65",
   "metadata": {},
   "outputs": [
    {
     "data": {
      "text/plain": [
       "177"
      ]
     },
     "execution_count": 61,
     "metadata": {},
     "output_type": "execute_result"
    }
   ],
   "source": [
    "dataset[\"age\"].isnull().sum()"
   ]
  },
  {
   "cell_type": "markdown",
   "id": "dcdd66e3-0d10-40cd-9439-92700e26dda6",
   "metadata": {},
   "source": [
    "177 of null values in age\n",
    "#### mean is used in cleaning data, to fill nan values\n",
    "#### fillna() used fill the data with mean value"
   ]
  },
  {
   "cell_type": "code",
   "execution_count": 62,
   "id": "d8d4a6b0-7b94-49a3-adcb-99f11061a12a",
   "metadata": {},
   "outputs": [],
   "source": [
    "dataset[\"age\"].fillna(dataset[\"age\"].mean(), inplace=True) # fillna() used fill the data with mean value"
   ]
  },
  {
   "cell_type": "code",
   "execution_count": 63,
   "id": "6a30f2a0-6d5a-4dad-9f0d-b0334d8ebd04",
   "metadata": {},
   "outputs": [
    {
     "data": {
      "text/plain": [
       "0"
      ]
     },
     "execution_count": 63,
     "metadata": {},
     "output_type": "execute_result"
    }
   ],
   "source": [
    "dataset[\"age\"].isnull().sum()"
   ]
  },
  {
   "cell_type": "code",
   "execution_count": 64,
   "id": "1266c277-e676-48d0-9b1f-bd8ddfbfceb4",
   "metadata": {},
   "outputs": [
    {
     "data": {
      "text/plain": [
       "26461.91382352941"
      ]
     },
     "execution_count": 64,
     "metadata": {},
     "output_type": "execute_result"
    }
   ],
   "source": [
    "dataset[\"age\"].sum()  # 21205.17 + 177*29.69911764705882"
   ]
  },
  {
   "cell_type": "code",
   "execution_count": 65,
   "id": "7c66adbe-37fb-47b7-93dd-3e780aef0d17",
   "metadata": {},
   "outputs": [
    {
     "data": {
      "text/plain": [
       "29.69911764705882"
      ]
     },
     "execution_count": 65,
     "metadata": {},
     "output_type": "execute_result"
    }
   ],
   "source": [
    "np.median(dataset[\"age\"]) # now medain after fillna()"
   ]
  },
  {
   "cell_type": "code",
   "execution_count": 66,
   "id": "8e75d3c0-5214-4d2a-81fc-3d26e56c211e",
   "metadata": {},
   "outputs": [
    {
     "data": {
      "text/plain": [
       "29.69911764705882"
      ]
     },
     "execution_count": 66,
     "metadata": {},
     "output_type": "execute_result"
    }
   ],
   "source": [
    "dataset[\"age\"].mean()"
   ]
  },
  {
   "cell_type": "code",
   "execution_count": 67,
   "id": "10e79a66-107d-4feb-95b9-b667409787b0",
   "metadata": {},
   "outputs": [
    {
     "data": {
      "text/plain": [
       "0"
      ]
     },
     "execution_count": 67,
     "metadata": {},
     "output_type": "execute_result"
    }
   ],
   "source": [
    "(dataset[\"fare\"]).isnull().sum()"
   ]
  },
  {
   "cell_type": "code",
   "execution_count": 68,
   "id": "f2743551-7832-407a-b6b0-a2df3a76dd32",
   "metadata": {},
   "outputs": [],
   "source": [
    "md = np.median(dataset[\"fare\"])"
   ]
  },
  {
   "cell_type": "code",
   "execution_count": 69,
   "id": "96c80343-0970-4893-8c80-7b3a4ac73455",
   "metadata": {},
   "outputs": [
    {
     "data": {
      "text/plain": [
       "14.4542"
      ]
     },
     "execution_count": 69,
     "metadata": {},
     "output_type": "execute_result"
    }
   ],
   "source": [
    "md"
   ]
  },
  {
   "cell_type": "code",
   "execution_count": 70,
   "id": "b33979ea-76bf-4bb6-b752-4701e4a91370",
   "metadata": {},
   "outputs": [
    {
     "data": {
      "text/plain": [
       "32.204207968574636"
      ]
     },
     "execution_count": 70,
     "metadata": {},
     "output_type": "execute_result"
    }
   ],
   "source": [
    "np.mean(dataset[\"fare\"])"
   ]
  },
  {
   "cell_type": "code",
   "execution_count": 71,
   "id": "6c6ff9d2-197a-48e4-a346-33ca9d5f00b8",
   "metadata": {},
   "outputs": [],
   "source": [
    "mn = np.mean(dataset[\"fare\"])"
   ]
  },
  {
   "cell_type": "markdown",
   "id": "197cdbcd-b8b8-4380-ada5-2b726c1683e8",
   "metadata": {},
   "source": [
    "Lets choose fare"
   ]
  },
  {
   "cell_type": "code",
   "execution_count": 72,
   "id": "84288881-1797-428d-a235-fbec87055a57",
   "metadata": {},
   "outputs": [
    {
     "data": {
      "image/png": "[encoded data removed]",
      "text/plain": [
       "<Figure size 640x480 with 1 Axes>"
      ]
     },
     "metadata": {},
     "output_type": "display_data"
    }
   ],
   "source": [
    "sns.histplot(x=\"fare\",data=dataset,bins=[i for i in range(0,81,15)]) # x-axis: 0 to 81 spread\n",
    "plt.plot([mf for i in range(0,800)],[i for i in range(0,800)], c=\"red\")# apply mean mn, to display line vertically, spread 0-500\n",
    "plt.plot([md for i in range(0,800)],[i for i in range(0,800)], c=\"green\")\n",
    "plt.show()"
   ]
  },
  {
   "cell_type": "markdown",
   "id": "294188c1-1ed9-4cb1-8cb8-322d2bef220f",
   "metadata": {},
   "source": [
    "# mode\n",
    "    most frequency data or most repeated data\n",
    "    usually calculating 'mode' on categorical data.\n",
    "    Also calculate 'mode' with number but with descrete number data "
   ]
  },
  {
   "cell_type": "code",
   "execution_count": 73,
   "id": "eae910f3-c147-4cac-ad84-8cd18ea5a5c1",
   "metadata": {},
   "outputs": [
    {
     "data": {
      "text/plain": [
       "0"
      ]
     },
     "execution_count": 73,
     "metadata": {},
     "output_type": "execute_result"
    }
   ],
   "source": [
    "dataset[\"fare\"].isnull().sum()"
   ]
  },
  {
   "cell_type": "code",
   "execution_count": 74,
   "id": "096139d9-485a-4df5-a70d-0a81da2fe561",
   "metadata": {},
   "outputs": [
    {
     "data": {
      "text/plain": [
       "0    8.05\n",
       "Name: fare, dtype: float64"
      ]
     },
     "execution_count": 74,
     "metadata": {},
     "output_type": "execute_result"
    }
   ],
   "source": [
    "dataset[\"fare\"].mode()"
   ]
  },
  {
   "cell_type": "code",
   "execution_count": 75,
   "id": "46ac20a2-2873-411e-b265-46adf9664c95",
   "metadata": {},
   "outputs": [
    {
     "data": {
      "text/plain": [
       "pandas.core.series.Series"
      ]
     },
     "execution_count": 75,
     "metadata": {},
     "output_type": "execute_result"
    }
   ],
   "source": [
    "type(dataset[\"fare\"].mode()) # when you check series"
   ]
  },
  {
   "cell_type": "code",
   "execution_count": 76,
   "id": "4b951de0-f716-40e5-8fca-f4b9f5af6f27",
   "metadata": {},
   "outputs": [
    {
     "data": {
      "text/plain": [
       "8.05"
      ]
     },
     "execution_count": 76,
     "metadata": {},
     "output_type": "execute_result"
    }
   ],
   "source": [
    "dataset[\"fare\"].mode()[0] # to avoid the first col 0, [0]"
   ]
  },
  {
   "cell_type": "code",
   "execution_count": 77,
   "id": "99b7d06f-d334-4f99-9a90-11893356f5bf",
   "metadata": {},
   "outputs": [
    {
     "data": {
      "text/plain": [
       "8.0500     43\n",
       "13.0000    42\n",
       "7.8958     38\n",
       "7.7500     34\n",
       "26.0000    31\n",
       "           ..\n",
       "35.0000     1\n",
       "28.5000     1\n",
       "6.2375      1\n",
       "14.0000     1\n",
       "10.5167     1\n",
       "Name: fare, Length: 248, dtype: int64"
      ]
     },
     "execution_count": 77,
     "metadata": {},
     "output_type": "execute_result"
    }
   ],
   "source": [
    "dataset[\"fare\"].value_counts() # this will show the most repeated data from top row\n",
    "#Here, the data 8.0500 repeated 43 times"
   ]
  },
  {
   "cell_type": "markdown",
   "id": "189dd6d3-1b90-46f1-bac1-774d9d342ab7",
   "metadata": {},
   "source": [
    "Here, the data 8.0500 repeated 43 times, and 13.0000 - 42 times"
   ]
  },
  {
   "cell_type": "code",
   "execution_count": 78,
   "id": "a89b1a4e-e2cd-4115-a26d-4b20a8ae4d60",
   "metadata": {},
   "outputs": [],
   "source": [
    "mo = dataset[\"fare\"].mode()"
   ]
  },
  {
   "cell_type": "code",
   "execution_count": 79,
   "id": "14115dee-4ead-4cdb-83aa-8c08f894b4a3",
   "metadata": {},
   "outputs": [
    {
     "data": {
      "image/png": "[encoded data removed]",
      "text/plain": [
       "<Figure size 640x480 with 1 Axes>"
      ]
     },
     "metadata": {},
     "output_type": "display_data"
    }
   ],
   "source": [
    "sns.histplot(x=\"fare\",data=dataset,bins=[i for i in range(0,81,10)]) # x-axis: 0 to 81 spread\n",
    "plt.plot([mn for i in range(0,800)],[i for i in range(0,800)], c=\"red\", label=\"mean\")# apply mean mn, to display line vertically, spread 0-500\n",
    "plt.plot([md for i in range(0,800)],[i for i in range(0,800)], c=\"green\", label=\"median\")\n",
    "plt.plot([mo for i in range(0,800)],[i for i in range(0,800)], c=\"blue\", label=\"mode\")\n",
    "plt.legend()\n",
    "plt.show()"
   ]
  },
  {
   "cell_type": "markdown",
   "id": "76c7ccfe-151f-43ce-8077-deb9fd1714c8",
   "metadata": {},
   "source": [
    "# This is non-symmetrical data where mean, median and mode are not same"
   ]
  },
  {
   "cell_type": "code",
   "execution_count": null,
   "id": "9bb49663-27b7-446a-93eb-486c3276868d",
   "metadata": {},
   "outputs": [],
   "source": []
  }
 ],
 "metadata": {
  "kernelspec": {
   "display_name": "Python 3 (ipykernel)",
   "language": "python",
   "name": "python3"
  },
  "language_info": {
   "codemirror_mode": {
    "name": "ipython",
    "version": 3
   },
   "file_extension": ".py",
   "mimetype": "text/x-python",
   "name": "python",
   "nbconvert_exporter": "python",
   "pygments_lexer": "ipython3",
   "version": "3.11.3"
  }
 },
 "nbformat": 4,
 "nbformat_minor": 5
}
